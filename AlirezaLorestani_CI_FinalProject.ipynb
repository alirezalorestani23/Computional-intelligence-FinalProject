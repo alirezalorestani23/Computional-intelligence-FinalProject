{
  "nbformat": 4,
  "nbformat_minor": 0,
  "metadata": {
    "colab": {
      "name": "AlirezaLorestani-CI-FinalProject.ipynb",
      "provenance": [],
      "collapsed_sections": [],
      "authorship_tag": "ABX9TyNlceRZGjO/mikYZdvnTSvW",
      "include_colab_link": true
    },
    "kernelspec": {
      "name": "python3",
      "display_name": "Python 3"
    },
    "language_info": {
      "name": "python"
    }
  },
  "cells": [
    {
      "cell_type": "markdown",
      "metadata": {
        "id": "view-in-github",
        "colab_type": "text"
      },
      "source": [
        "<a href=\"https://colab.research.google.com/github/alirezalorestani23/Computional-intelligence-FinalProject/blob/main/AlirezaLorestani_CI_FinalProject.ipynb\" target=\"_parent\"><img src=\"https://colab.research.google.com/assets/colab-badge.svg\" alt=\"Open In Colab\"/></a>"
      ]
    },
    {
      "cell_type": "code",
      "source": [
        "import pandas as pd\n",
        "import numpy as np"
      ],
      "metadata": {
        "id": "u0IT_pqZ8OtO"
      },
      "execution_count": null,
      "outputs": []
    },
    {
      "cell_type": "code",
      "source": [
        "from sklearn.ensemble import RandomForestClassifier"
      ],
      "metadata": {
        "id": "URilxQktI3WH"
      },
      "execution_count": null,
      "outputs": []
    },
    {
      "cell_type": "code",
      "source": [
        "from sklearn.ensemble import AdaBoostClassifier"
      ],
      "metadata": {
        "id": "xpAlDXJJhTqL"
      },
      "execution_count": null,
      "outputs": []
    },
    {
      "cell_type": "code",
      "execution_count": null,
      "metadata": {
        "colab": {
          "base_uri": "https://localhost:8080/"
        },
        "id": "1zObKEdZg3WP",
        "outputId": "10a80fc9-adf4-4413-fda0-2b6d916854a9"
      },
      "outputs": [
        {
          "output_type": "stream",
          "name": "stdout",
          "text": [
            "Mounted at /content/drive\n"
          ]
        }
      ],
      "source": [
        "from google.colab import drive\n",
        "drive.mount('/content/drive')"
      ]
    },
    {
      "cell_type": "code",
      "source": [
        "!unzip  \"/content/drive/MyDrive/project.zip\""
      ],
      "metadata": {
        "id": "YkaSDPn5hInJ"
      },
      "execution_count": null,
      "outputs": []
    },
    {
      "cell_type": "code",
      "source": [
        "pairs_train_file = open('/content/pairsDevTrain.txt', 'r')\n",
        "train_file_lines = pairs_train_file.readlines()\n",
        "train_file_lines.pop(0)"
      ],
      "metadata": {
        "colab": {
          "base_uri": "https://localhost:8080/",
          "height": 35
        },
        "id": "5K1DP6vg4Oka",
        "outputId": "c3c89e70-d3a3-40ca-d5a0-ab89d1771880"
      },
      "execution_count": null,
      "outputs": [
        {
          "output_type": "execute_result",
          "data": {
            "application/vnd.google.colaboratory.intrinsic+json": {
              "type": "string"
            },
            "text/plain": [
              "'1100\\n'"
            ]
          },
          "metadata": {},
          "execution_count": 6
        }
      ]
    },
    {
      "cell_type": "code",
      "source": [
        "pairs_test_file = open('/content/pairsDevTest.txt', 'r')\n",
        "test_file_lines = pairs_test_file.readlines()\n",
        "test_file_lines.pop(0)"
      ],
      "metadata": {
        "colab": {
          "base_uri": "https://localhost:8080/",
          "height": 35
        },
        "id": "GQeAuN3VcrWE",
        "outputId": "142c374a-c060-4ed4-9da3-f659ef8a0094"
      },
      "execution_count": null,
      "outputs": [
        {
          "output_type": "execute_result",
          "data": {
            "application/vnd.google.colaboratory.intrinsic+json": {
              "type": "string"
            },
            "text/plain": [
              "'500\\n'"
            ]
          },
          "metadata": {},
          "execution_count": 7
        }
      ]
    },
    {
      "cell_type": "code",
      "source": [
        "def read_vectors(file_address):\n",
        "  file_text = open(file_address).read()\n",
        "  cleaned_text = file_text.replace('[','').replace(']','')\n",
        "  return np.fromstring(cleaned_text,dtype = float,sep=' ') \n"
      ],
      "metadata": {
        "id": "pyPQDGx2KrEl"
      },
      "execution_count": null,
      "outputs": []
    },
    {
      "cell_type": "code",
      "source": [
        "def create_file_address(name,number):\n",
        "  return \"/content/lfw/\"+name+\"/\"+name+\"_\"+f\"{int(number):04}\"+\".txt\"\n"
      ],
      "metadata": {
        "id": "BYsQzbY3M5lL"
      },
      "execution_count": null,
      "outputs": []
    },
    {
      "cell_type": "code",
      "source": [
        "def prepare_dataset(lines):\n",
        "  i=0\n",
        "  line_numbers = len(lines)\n",
        "  labels = np.zeros(line_numbers)\n",
        "  data = np.empty([line_numbers,1024])\n",
        "  for line in lines:\n",
        "    words = line[:-1].split(\"\\t\")\n",
        "    if(len(words)==4):\n",
        "      file_address1 = create_file_address(words[0],words[1])\n",
        "      file_address2 = create_file_address(words[2],words[3])\n",
        "      data[i]=np.concatenate((read_vectors(file_address1), read_vectors(file_address2)), axis=None)     \n",
        "    elif(len(words)==3):\n",
        "      file_address1 = create_file_address(words[0],words[1])\n",
        "      file_address2 = create_file_address(words[0],words[2])\n",
        "      data[i]=np.concatenate((read_vectors(file_address1), read_vectors(file_address2)), axis=None)\n",
        "      labels[i]=1\n",
        "    i = i+1\n",
        "  print(labels.shape)\n",
        "  print(data.shape)\n",
        "  return labels,data\n"
      ],
      "metadata": {
        "id": "vDDTi1Xz4mJw"
      },
      "execution_count": null,
      "outputs": []
    },
    {
      "cell_type": "markdown",
      "source": [
        ""
      ],
      "metadata": {
        "id": "KPvj5jVNVOMz"
      }
    },
    {
      "cell_type": "code",
      "source": [
        "def prepare_dataset_substract(lines):\n",
        "  i=0\n",
        "  line_numbers = len(lines)\n",
        "  labels = np.zeros(line_numbers)\n",
        "  data = np.empty([line_numbers,512])\n",
        "  for line in lines:\n",
        "    words = line[:-1].split(\"\\t\")\n",
        "    if(len(words)==4):\n",
        "      file_address1 = create_file_address(words[0],words[1])\n",
        "      file_address2 = create_file_address(words[2],words[3])\n",
        "      data[i]=np.subtract(read_vectors(file_address1), read_vectors(file_address2))     \n",
        "    elif(len(words)==3):\n",
        "      file_address1 = create_file_address(words[0],words[1])\n",
        "      file_address2 = create_file_address(words[0],words[2])\n",
        "      data[i]=np.subtract(read_vectors(file_address1), read_vectors(file_address2))\n",
        "      labels[i]=1\n",
        "    i = i+1\n",
        "  print(labels.shape)\n",
        "  print(data.shape)\n",
        "  return labels,data\n"
      ],
      "metadata": {
        "id": "E_2X7dvfFMUV"
      },
      "execution_count": null,
      "outputs": []
    },
    {
      "cell_type": "code",
      "source": [
        "np_train_labels,np_train_data = prepare_dataset(train_file_lines)"
      ],
      "metadata": {
        "colab": {
          "base_uri": "https://localhost:8080/"
        },
        "id": "V9bVHVSj4hHQ",
        "outputId": "23365f4b-c38d-45e4-9557-eb43c30d6a8f"
      },
      "execution_count": null,
      "outputs": [
        {
          "output_type": "stream",
          "name": "stdout",
          "text": [
            "(2200,)\n",
            "(2200, 1024)\n"
          ]
        }
      ]
    },
    {
      "cell_type": "code",
      "source": [
        "np_train_labels_subtracted,np_train_data_subtracted = prepare_dataset_substract(train_file_lines)"
      ],
      "metadata": {
        "colab": {
          "base_uri": "https://localhost:8080/"
        },
        "id": "g04rxlCKMQhs",
        "outputId": "83878361-1b51-4d89-d842-58315326675a"
      },
      "execution_count": null,
      "outputs": [
        {
          "output_type": "stream",
          "name": "stdout",
          "text": [
            "(2200,)\n",
            "(2200, 512)\n"
          ]
        }
      ]
    },
    {
      "cell_type": "code",
      "source": [
        "np_test_labels,np_test_data = prepare_dataset(test_file_lines)"
      ],
      "metadata": {
        "colab": {
          "base_uri": "https://localhost:8080/"
        },
        "id": "WWUoeRPEbRzS",
        "outputId": "aa962907-5bb7-4483-b1b6-96b5d4025458"
      },
      "execution_count": null,
      "outputs": [
        {
          "output_type": "stream",
          "name": "stdout",
          "text": [
            "(1000,)\n",
            "(1000, 1024)\n"
          ]
        }
      ]
    },
    {
      "cell_type": "code",
      "source": [
        "np_test_labels_subtracted,np_test_data_subtracted = prepare_dataset_substract(test_file_lines)"
      ],
      "metadata": {
        "colab": {
          "base_uri": "https://localhost:8080/"
        },
        "id": "cBrGobjnNO-5",
        "outputId": "9d6eeb70-ce69-4730-832a-6405eab5366a"
      },
      "execution_count": null,
      "outputs": [
        {
          "output_type": "stream",
          "name": "stdout",
          "text": [
            "(1000,)\n",
            "(1000, 512)\n"
          ]
        }
      ]
    },
    {
      "cell_type": "code",
      "source": [
        "n_estimators = [10,50,100,300]\n",
        "max_depthes=[5,10,100,500, None]\n",
        "max_features=[0.3,0.6,\"auto\"]\n",
        "for n_estimator in n_estimators:\n",
        "  for depth in max_depthes:\n",
        "    for features in max_features:\n",
        "      clf = RandomForestClassifier(n_estimators=n_estimator,max_features=features,max_depth=depth) \n",
        "      clf.fit(np_train_data,np_train_labels)\n",
        "      score = clf.score(np_test_data,np_test_labels)\n",
        "      print(\"n_estimators: \"+str(n_estimator)+\" max_depth: \"+str(depth)+\" max_features: \"+str(features)+\" score:\"+str(score))"
      ],
      "metadata": {
        "colab": {
          "base_uri": "https://localhost:8080/"
        },
        "id": "fnDhOEqpdQlV",
        "outputId": "dc8d083e-4388-4867-a832-a239d5a6769c"
      },
      "execution_count": null,
      "outputs": [
        {
          "output_type": "stream",
          "name": "stdout",
          "text": [
            "n_estimators: 10 max_depth: 5 max_features: 0.3 score:0.582\n",
            "n_estimators: 10 max_depth: 5 max_features: 0.6 score:0.578\n",
            "n_estimators: 10 max_depth: 5 max_features: auto score:0.562\n",
            "n_estimators: 10 max_depth: 10 max_features: 0.3 score:0.564\n",
            "n_estimators: 10 max_depth: 10 max_features: 0.6 score:0.577\n",
            "n_estimators: 10 max_depth: 10 max_features: auto score:0.53\n",
            "n_estimators: 10 max_depth: 100 max_features: 0.3 score:0.591\n",
            "n_estimators: 10 max_depth: 100 max_features: 0.6 score:0.572\n",
            "n_estimators: 10 max_depth: 100 max_features: auto score:0.531\n",
            "n_estimators: 10 max_depth: 500 max_features: 0.3 score:0.579\n",
            "n_estimators: 10 max_depth: 500 max_features: 0.6 score:0.57\n",
            "n_estimators: 10 max_depth: 500 max_features: auto score:0.55\n",
            "n_estimators: 10 max_depth: None max_features: 0.3 score:0.538\n",
            "n_estimators: 10 max_depth: None max_features: 0.6 score:0.573\n",
            "n_estimators: 10 max_depth: None max_features: auto score:0.55\n",
            "n_estimators: 50 max_depth: 5 max_features: 0.3 score:0.638\n",
            "n_estimators: 50 max_depth: 5 max_features: 0.6 score:0.625\n",
            "n_estimators: 50 max_depth: 5 max_features: auto score:0.598\n",
            "n_estimators: 50 max_depth: 10 max_features: 0.3 score:0.655\n",
            "n_estimators: 50 max_depth: 10 max_features: 0.6 score:0.617\n",
            "n_estimators: 50 max_depth: 10 max_features: auto score:0.613\n",
            "n_estimators: 50 max_depth: 100 max_features: 0.3 score:0.632\n",
            "n_estimators: 50 max_depth: 100 max_features: 0.6 score:0.639\n",
            "n_estimators: 50 max_depth: 100 max_features: auto score:0.606\n",
            "n_estimators: 50 max_depth: 500 max_features: 0.3 score:0.653\n",
            "n_estimators: 50 max_depth: 500 max_features: 0.6 score:0.65\n",
            "n_estimators: 50 max_depth: 500 max_features: auto score:0.611\n",
            "n_estimators: 50 max_depth: None max_features: 0.3 score:0.631\n",
            "n_estimators: 50 max_depth: None max_features: 0.6 score:0.647\n",
            "n_estimators: 50 max_depth: None max_features: auto score:0.617\n",
            "n_estimators: 100 max_depth: 5 max_features: 0.3 score:0.661\n",
            "n_estimators: 100 max_depth: 5 max_features: 0.6 score:0.643\n",
            "n_estimators: 100 max_depth: 5 max_features: auto score:0.625\n",
            "n_estimators: 100 max_depth: 10 max_features: 0.3 score:0.64\n",
            "n_estimators: 100 max_depth: 10 max_features: 0.6 score:0.621\n",
            "n_estimators: 100 max_depth: 10 max_features: auto score:0.645\n",
            "n_estimators: 100 max_depth: 100 max_features: 0.3 score:0.672\n",
            "n_estimators: 100 max_depth: 100 max_features: 0.6 score:0.684\n",
            "n_estimators: 100 max_depth: 100 max_features: auto score:0.613\n",
            "n_estimators: 100 max_depth: 500 max_features: 0.3 score:0.653\n",
            "n_estimators: 100 max_depth: 500 max_features: 0.6 score:0.658\n",
            "n_estimators: 100 max_depth: 500 max_features: auto score:0.655\n",
            "n_estimators: 100 max_depth: None max_features: 0.3 score:0.663\n",
            "n_estimators: 100 max_depth: None max_features: 0.6 score:0.658\n",
            "n_estimators: 100 max_depth: None max_features: auto score:0.648\n",
            "n_estimators: 300 max_depth: 5 max_features: 0.3 score:0.675\n",
            "n_estimators: 300 max_depth: 5 max_features: 0.6 score:0.674\n",
            "n_estimators: 300 max_depth: 5 max_features: auto score:0.655\n",
            "n_estimators: 300 max_depth: 10 max_features: 0.3 score:0.677\n",
            "n_estimators: 300 max_depth: 10 max_features: 0.6 score:0.698\n",
            "n_estimators: 300 max_depth: 10 max_features: auto score:0.677\n",
            "n_estimators: 300 max_depth: 100 max_features: 0.3 score:0.702\n",
            "n_estimators: 300 max_depth: 100 max_features: 0.6 score:0.699\n",
            "n_estimators: 300 max_depth: 100 max_features: auto score:0.656\n",
            "n_estimators: 300 max_depth: 500 max_features: 0.3 score:0.672\n",
            "n_estimators: 300 max_depth: 500 max_features: 0.6 score:0.688\n",
            "n_estimators: 300 max_depth: 500 max_features: auto score:0.661\n",
            "n_estimators: 300 max_depth: None max_features: 0.3 score:0.713\n",
            "n_estimators: 300 max_depth: None max_features: 0.6 score:0.684\n",
            "n_estimators: 300 max_depth: None max_features: auto score:0.695\n"
          ]
        }
      ]
    },
    {
      "cell_type": "code",
      "source": [
        "n_estimators = [300]\n",
        "max_depthes=[100, None]\n",
        "max_features=[0.3,0.6]\n",
        "for n_estimator in n_estimators:\n",
        "  for depth in max_depthes:\n",
        "    for features in max_features:\n",
        "      clf = RandomForestClassifier(n_estimators=n_estimator,max_features=features,max_depth=depth) \n",
        "      clf.fit(np_train_data_subtracted,np_train_labels_subtracted)\n",
        "      score = clf.score(np_test_data_subtracted,np_test_labels_subtracted)\n",
        "      print(\"n_estimators: \"+str(n_estimator)+\" max_depth: \"+str(depth)+\" max_features: \"+str(features)+\" score:\"+str(score))"
      ],
      "metadata": {
        "colab": {
          "base_uri": "https://localhost:8080/"
        },
        "id": "7L1-Jg0zdjso",
        "outputId": "f76aea7c-6f57-487f-bf76-95aad1cb4432"
      },
      "execution_count": null,
      "outputs": [
        {
          "output_type": "stream",
          "name": "stdout",
          "text": [
            "n_estimators: 300 max_depth: 100 max_features: 0.3 score:0.803\n",
            "n_estimators: 300 max_depth: 100 max_features: 0.6 score:0.812\n",
            "n_estimators: 300 max_depth: None max_features: 0.3 score:0.813\n",
            "n_estimators: 300 max_depth: None max_features: 0.6 score:0.804\n"
          ]
        }
      ]
    },
    {
      "cell_type": "code",
      "source": [
        "clf = AdaBoostClassifier(n_estimators=300) \n",
        "clf.fit(np_train_data_subtracted,np_train_labels_subtracted)\n",
        "score = clf.score(np_test_data_subtracted,np_test_labels_subtracted)\n",
        "print(\"n_estimators: \"+str(n_estimator)+\" score:\"+str(score))"
      ],
      "metadata": {
        "colab": {
          "base_uri": "https://localhost:8080/"
        },
        "id": "SwZ8OF2Ahbza",
        "outputId": "69b2668f-e2de-4f3c-eef5-ac11a5f096f7"
      },
      "execution_count": null,
      "outputs": [
        {
          "output_type": "stream",
          "name": "stdout",
          "text": [
            "n_estimators: 300 score:0.788\n"
          ]
        }
      ]
    }
  ]
}